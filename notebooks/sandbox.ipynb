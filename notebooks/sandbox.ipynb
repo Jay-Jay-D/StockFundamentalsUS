{
 "cells": [
  {
   "cell_type": "code",
   "execution_count": 1,
   "metadata": {},
   "outputs": [],
   "source": [
    "import os\n",
    "import pandas as pd\n",
    "from pathlib import Path"
   ]
  },
  {
   "cell_type": "code",
   "execution_count": 2,
   "metadata": {},
   "outputs": [
    {
     "data": {
      "text/plain": [
       "'/mnt/SharedHome/REPOS/LAB/StockFundamentalsUS/notebooks'"
      ]
     },
     "execution_count": 2,
     "metadata": {},
     "output_type": "execute_result"
    }
   ],
   "source": [
    "os.getcwd()"
   ]
  },
  {
   "cell_type": "code",
   "execution_count": 3,
   "metadata": {},
   "outputs": [],
   "source": [
    "raw_data_folder = Path('../tmp/')"
   ]
  },
  {
   "cell_type": "code",
   "execution_count": 36,
   "metadata": {},
   "outputs": [
    {
     "name": "stdout",
     "output_type": "stream",
     "text": [
      "Processing ../tmp/companies.csv\n",
      "Stored 12173 rows as /mnt/SharedHome/REPOS/LAB/StockFundamentalsUS/tmp/companies.parquet\n",
      "Processing ../tmp/indicators_by_company.csv\n",
      "Stored 1907883 rows as /mnt/SharedHome/REPOS/LAB/StockFundamentalsUS/tmp/indicators_by_company.parquet\n"
     ]
    }
   ],
   "source": [
    "for f in raw_data_folder.glob('*.csv'):\n",
    "    print(f'Processing {f}')\n",
    "    df = pd.read_csv(f.resolve())\n",
    "    mapper=dict([(c, f'year_{c}') for c in df.columns if c[0].isdigit()])\n",
    "    if any(mapper):\n",
    "        df = df.rename(mapper=mapper, axis=1)\n",
    "    destination_file = str(f.resolve()).replace('.csv', '.parquet')\n",
    "    df.to_parquet(destination_file)\n",
    "    print(f'Stored {df.shape[0]} rows as {destination_file}')\n",
    "\n",
    "\n"
   ]
  },
  {
   "cell_type": "code",
   "execution_count": 3,
   "metadata": {},
   "outputs": [],
   "source": [
    "companies_file = './raw_data/companies.csv'\n",
    "indicators_file = './raw_data/indicators_by_company.csv'"
   ]
  },
  {
   "cell_type": "code",
   "execution_count": 6,
   "metadata": {},
   "outputs": [],
   "source": [
    "companies = pd.read_csv(companies_file)"
   ]
  },
  {
   "cell_type": "code",
   "execution_count": 7,
   "metadata": {},
   "outputs": [],
   "source": [
    "indicators  =pd.read_csv(indicators_file)"
   ]
  },
  {
   "cell_type": "code",
   "execution_count": 9,
   "metadata": {},
   "outputs": [],
   "source": [
    "companies.to_parquet(companies_file.replace('.csv', '.parquet'))"
   ]
  },
  {
   "cell_type": "code",
   "execution_count": 23,
   "metadata": {},
   "outputs": [
    {
     "data": {
      "text/plain": [
       "'indicators_by_company.csv'"
      ]
     },
     "execution_count": 23,
     "metadata": {},
     "output_type": "execute_result"
    }
   ],
   "source": [
    "f.name"
   ]
  },
  {
   "cell_type": "code",
   "execution_count": null,
   "metadata": {},
   "outputs": [],
   "source": []
  }
 ],
 "metadata": {
  "kernelspec": {
   "display_name": "Python 3.10.6 ('venv': venv)",
   "language": "python",
   "name": "python3"
  },
  "language_info": {
   "codemirror_mode": {
    "name": "ipython",
    "version": 3
   },
   "file_extension": ".py",
   "mimetype": "text/x-python",
   "name": "python",
   "nbconvert_exporter": "python",
   "pygments_lexer": "ipython3",
   "version": "3.10.6"
  },
  "orig_nbformat": 4,
  "vscode": {
   "interpreter": {
    "hash": "f993c956d3c2ef1c62b03fd6513a871bf8438bc5362775ddfb43eef4e3f859dc"
   }
  }
 },
 "nbformat": 4,
 "nbformat_minor": 2
}
